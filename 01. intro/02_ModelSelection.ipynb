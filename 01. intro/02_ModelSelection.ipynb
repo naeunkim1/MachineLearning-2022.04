{
  "nbformat": 4,
  "nbformat_minor": 0,
  "metadata": {
    "colab": {
      "name": "02_ModelSelection.ipynb",
      "provenance": []
    },
    "kernelspec": {
      "name": "python3",
      "display_name": "Python 3"
    },
    "language_info": {
      "name": "python"
    }
  },
  "cells": [
    {
      "cell_type": "markdown",
      "source": [
        "## Model Selection 모듈"
      ],
      "metadata": {
        "id": "gt3gA88ru2vw"
      }
    },
    {
      "cell_type": "markdown",
      "source": [
        "- 훈련 데이터와 테스트 데이터로 분리하지 않고 머신러닝 수행"
      ],
      "metadata": {
        "id": "hInSdSBPvH4S"
      }
    },
    {
      "cell_type": "code",
      "execution_count": 1,
      "metadata": {
        "id": "7gVcoVryuxMD"
      },
      "outputs": [],
      "source": [
        "from sklearn.datasets import load_iris\n",
        "from sklearn.tree import DecisionTreeClassifier"
      ]
    },
    {
      "cell_type": "code",
      "source": [
        "iris = load_iris()\n",
        "dtc = DecisionTreeClassifier(random_state = 2022)\n",
        "dtc.fit(iris.data, iris.target)\n",
        "dtc.score(iris.data, iris.target)"
      ],
      "metadata": {
        "colab": {
          "base_uri": "https://localhost:8080/"
        },
        "id": "auIGWEehvXr-",
        "outputId": "42214905-657d-4627-c38d-0340e67faafc"
      },
      "execution_count": 3,
      "outputs": [
        {
          "output_type": "execute_result",
          "data": {
            "text/plain": [
              "1.0"
            ]
          },
          "metadata": {},
          "execution_count": 3
        }
      ]
    },
    {
      "cell_type": "markdown",
      "source": [
        "- 교차 검증: cross_validate() + 평가\n",
        "- 교차 검증후 평가까지: cross_val_score()"
      ],
      "metadata": {
        "id": "Bzhtft2SyiL2"
      }
    },
    {
      "cell_type": "code",
      "source": [
        "from sklearn.model_selection import cross_val_score\n",
        "cross_val_score(dtc, iris.data, iris.target, scoring = 'accuracy', cv = 5)"
      ],
      "metadata": {
        "colab": {
          "base_uri": "https://localhost:8080/"
        },
        "id": "4hPIvB4gvZuD",
        "outputId": "c695782c-6f07-4f59-db9d-c7aac4fc668f"
      },
      "execution_count": 4,
      "outputs": [
        {
          "output_type": "execute_result",
          "data": {
            "text/plain": [
              "array([0.96666667, 0.96666667, 0.9       , 0.93333333, 1.        ])"
            ]
          },
          "metadata": {},
          "execution_count": 4
        }
      ]
    },
    {
      "cell_type": "code",
      "source": [
        "cross_val_score(dtc, iris.data, iris.target, scoring = 'accuracy', cv = 5).mean()"
      ],
      "metadata": {
        "colab": {
          "base_uri": "https://localhost:8080/"
        },
        "id": "HQM6a9_NyzZE",
        "outputId": "83a4bf04-b555-425f-f759-d6ac63149a8e"
      },
      "execution_count": 5,
      "outputs": [
        {
          "output_type": "execute_result",
          "data": {
            "text/plain": [
              "0.9533333333333334"
            ]
          },
          "metadata": {},
          "execution_count": 5
        }
      ]
    },
    {
      "cell_type": "markdown",
      "source": [
        "- GridSearchCV 클래스: 하이퍼 파라메터 튜닝 + 교차 검증"
      ],
      "metadata": {
        "id": "G13NSOmi0Qdl"
      }
    },
    {
      "cell_type": "code",
      "source": [
        "# Train/Test dataset 분리\n",
        "from sklearn.model_selection import train_test_split\n",
        "X_train, X_test, y_train, y_test = train_test_split(\n",
        "    iris.data, iris.target, stratify = iris.target, test_size = 0.2, random_state = 2022\n",
        ")"
      ],
      "metadata": {
        "id": "gQTtaA-m4ETZ"
      },
      "execution_count": 7,
      "outputs": []
    },
    {
      "cell_type": "code",
      "source": [
        "# 분류기와 그에 해당하는 하이퍼 파라메터\n",
        "dtc = DecisionTreeClassifier(random_state = 2022)\n",
        "dtc.get_params()"
      ],
      "metadata": {
        "colab": {
          "base_uri": "https://localhost:8080/"
        },
        "id": "R7cf1VF3zEg5",
        "outputId": "d382b151-1f6a-4c74-f7a9-275dcba0191e"
      },
      "execution_count": 8,
      "outputs": [
        {
          "output_type": "execute_result",
          "data": {
            "text/plain": [
              "{'ccp_alpha': 0.0,\n",
              " 'class_weight': None,\n",
              " 'criterion': 'gini',\n",
              " 'max_depth': None,\n",
              " 'max_features': None,\n",
              " 'max_leaf_nodes': None,\n",
              " 'min_impurity_decrease': 0.0,\n",
              " 'min_samples_leaf': 1,\n",
              " 'min_samples_split': 2,\n",
              " 'min_weight_fraction_leaf': 0.0,\n",
              " 'random_state': 2022,\n",
              " 'splitter': 'best'}"
            ]
          },
          "metadata": {},
          "execution_count": 8
        }
      ]
    },
    {
      "cell_type": "code",
      "source": [
        "params = {\n",
        "    'max_depth': [2, 3, 4, 5, 6], \n",
        "    'min_samples_split' : [2, 3, 4]\n",
        "}"
      ],
      "metadata": {
        "id": "nLAqz_dfzNQf"
      },
      "execution_count": 10,
      "outputs": []
    },
    {
      "cell_type": "code",
      "source": [
        "from sklearn.model_selection import GridSearchCV\n",
        "\n",
        "grid_dt = GridSearchCV(\n",
        "    dtc, param_grid = params, scoring = 'accuracy', cv = 5\n",
        ")"
      ],
      "metadata": {
        "id": "U_ZigGwh5NYf"
      },
      "execution_count": 11,
      "outputs": []
    },
    {
      "cell_type": "code",
      "source": [
        "grid_dt.fit(X_train, y_train)"
      ],
      "metadata": {
        "colab": {
          "base_uri": "https://localhost:8080/"
        },
        "id": "dMIxOMVB5wSe",
        "outputId": "315d9fa0-c2b5-4f68-b40d-9fe80bf3e52f"
      },
      "execution_count": 12,
      "outputs": [
        {
          "output_type": "execute_result",
          "data": {
            "text/plain": [
              "GridSearchCV(cv=5, estimator=DecisionTreeClassifier(random_state=2022),\n",
              "             param_grid={'max_depth': [2, 3, 4, 5, 6],\n",
              "                         'min_samples_split': [2, 3, 4]},\n",
              "             scoring='accuracy')"
            ]
          },
          "metadata": {},
          "execution_count": 12
        }
      ]
    },
    {
      "cell_type": "code",
      "source": [
        "# 베스트 파라메터\n",
        "grid_dt.best_params_"
      ],
      "metadata": {
        "colab": {
          "base_uri": "https://localhost:8080/"
        },
        "id": "8S5rKtdO6DkF",
        "outputId": "1e559718-b812-45c4-a7be-1407a5bcd6a3"
      },
      "execution_count": 13,
      "outputs": [
        {
          "output_type": "execute_result",
          "data": {
            "text/plain": [
              "{'max_depth': 3, 'min_samples_split': 2}"
            ]
          },
          "metadata": {},
          "execution_count": 13
        }
      ]
    },
    {
      "cell_type": "code",
      "source": [
        "# 베스트 스코어\n",
        "grid_dt.best_score_"
      ],
      "metadata": {
        "colab": {
          "base_uri": "https://localhost:8080/"
        },
        "id": "n8NPxy_L7JRO",
        "outputId": "0bc8b7a7-fdc9-4145-cd2f-a94c6a23ab24"
      },
      "execution_count": 14,
      "outputs": [
        {
          "output_type": "execute_result",
          "data": {
            "text/plain": [
              "0.9916666666666666"
            ]
          },
          "metadata": {},
          "execution_count": 14
        }
      ]
    },
    {
      "cell_type": "code",
      "source": [
        "# 최적의 분류기\n",
        "# dtc_best = DecisionTreeClassifier(max_depth=3, min_samples_split=2, random_state=2022)\n",
        "dtc_best = grid_dt.best_estimator_"
      ],
      "metadata": {
        "id": "7jI9KGrU7L4p"
      },
      "execution_count": 15,
      "outputs": []
    },
    {
      "cell_type": "code",
      "source": [
        "# 최적의 분류기로 예측 및 평가\n",
        "dtc_best.score(X_test, y_test)"
      ],
      "metadata": {
        "colab": {
          "base_uri": "https://localhost:8080/"
        },
        "id": "KQ60C1Vu7pGM",
        "outputId": "0f79c650-b30f-49d7-e751-27389136a0b9"
      },
      "execution_count": 16,
      "outputs": [
        {
          "output_type": "execute_result",
          "data": {
            "text/plain": [
              "0.9333333333333333"
            ]
          },
          "metadata": {},
          "execution_count": 16
        }
      ]
    },
    {
      "cell_type": "markdown",
      "source": [
        "- SVM 사례"
      ],
      "metadata": {
        "id": "DdCragoe8LxH"
      }
    },
    {
      "cell_type": "code",
      "source": [
        "from sklearn.svm import SVC\n",
        "svc = SVC(random_state=2022)\n",
        "svc.get_params()"
      ],
      "metadata": {
        "colab": {
          "base_uri": "https://localhost:8080/"
        },
        "id": "Q2jhxr5s779m",
        "outputId": "84de886e-16dc-47d7-fafb-011806ef7313"
      },
      "execution_count": 17,
      "outputs": [
        {
          "output_type": "execute_result",
          "data": {
            "text/plain": [
              "{'C': 1.0,\n",
              " 'break_ties': False,\n",
              " 'cache_size': 200,\n",
              " 'class_weight': None,\n",
              " 'coef0': 0.0,\n",
              " 'decision_function_shape': 'ovr',\n",
              " 'degree': 3,\n",
              " 'gamma': 'scale',\n",
              " 'kernel': 'rbf',\n",
              " 'max_iter': -1,\n",
              " 'probability': False,\n",
              " 'random_state': 2022,\n",
              " 'shrinking': True,\n",
              " 'tol': 0.001,\n",
              " 'verbose': False}"
            ]
          },
          "metadata": {},
          "execution_count": 17
        }
      ]
    },
    {
      "cell_type": "code",
      "source": [
        "params = {'C': [0.01, 0.1, 1, 10, 100]}\n",
        "grid_sv = GridSearchCV(svc, params, scoring = 'accuracy', cv = 5)"
      ],
      "metadata": {
        "id": "RoMBqf6v8XTw"
      },
      "execution_count": 18,
      "outputs": []
    },
    {
      "cell_type": "code",
      "source": [
        "grid_sv.fit(X_train, y_train)\n",
        "grid_sv.best_params_"
      ],
      "metadata": {
        "colab": {
          "base_uri": "https://localhost:8080/"
        },
        "id": "H_0RnF0a9BjM",
        "outputId": "5d1cb190-bee7-4c15-9e54-178e02464303"
      },
      "execution_count": 19,
      "outputs": [
        {
          "output_type": "execute_result",
          "data": {
            "text/plain": [
              "{'C': 1}"
            ]
          },
          "metadata": {},
          "execution_count": 19
        }
      ]
    },
    {
      "cell_type": "code",
      "source": [
        "# 범위를 좁혀가면서 파라메터를 찾음\n",
        "params = {'C': [0.2, 0.6, 1, 4, 8]}\n",
        "grid_sv = GridSearchCV(svc, params, scoring = 'accuracy', cv = 5)\n",
        "grid_sv.fit(X_train, y_train)\n",
        "grid_sv.best_params_"
      ],
      "metadata": {
        "colab": {
          "base_uri": "https://localhost:8080/"
        },
        "id": "jIGjFGd19J85",
        "outputId": "6286a12e-bfda-4394-c3fc-566d69a82593"
      },
      "execution_count": 20,
      "outputs": [
        {
          "output_type": "execute_result",
          "data": {
            "text/plain": [
              "{'C': 4}"
            ]
          },
          "metadata": {},
          "execution_count": 20
        }
      ]
    },
    {
      "cell_type": "code",
      "source": [
        "# 범위를 좁혀가면서 파라메터를 찾음\n",
        "params = {'C': [2, 3, 4, 5, 6]}\n",
        "grid_sv = GridSearchCV(svc, params, scoring = 'accuracy', cv = 5)\n",
        "grid_sv.fit(X_train, y_train)\n",
        "grid_sv.best_params_"
      ],
      "metadata": {
        "colab": {
          "base_uri": "https://localhost:8080/"
        },
        "id": "GssCmcth9jdK",
        "outputId": "b98b0e82-e6c3-415f-a19e-612dcb9b54d5"
      },
      "execution_count": 21,
      "outputs": [
        {
          "output_type": "execute_result",
          "data": {
            "text/plain": [
              "{'C': 4}"
            ]
          },
          "metadata": {},
          "execution_count": 21
        }
      ]
    },
    {
      "cell_type": "code",
      "source": [
        "svc_best = grid_sv.best_estimator_\n",
        "svc_best.score(X_test, y_test)"
      ],
      "metadata": {
        "colab": {
          "base_uri": "https://localhost:8080/"
        },
        "id": "XGkiR4XR9see",
        "outputId": "bd50a70f-6292-48b7-fb0f-fcd24a9ec76a"
      },
      "execution_count": 22,
      "outputs": [
        {
          "output_type": "execute_result",
          "data": {
            "text/plain": [
              "0.9666666666666667"
            ]
          },
          "metadata": {},
          "execution_count": 22
        }
      ]
    },
    {
      "cell_type": "code",
      "source": [
        ""
      ],
      "metadata": {
        "id": "FRQuOgAX-CZW"
      },
      "execution_count": null,
      "outputs": []
    }
  ]
}